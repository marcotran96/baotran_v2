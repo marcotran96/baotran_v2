{
 "cells": [
  {
   "cell_type": "code",
   "execution_count": 1,
   "id": "90cd252e",
   "metadata": {},
   "outputs": [
    {
     "name": "stdout",
     "output_type": "stream",
     "text": [
      "Requirement already satisfied: inventorize3 in e:\\anaconda\\lib\\site-packages (0.0.1)\n",
      "Requirement already satisfied: numpy>=1.14.5 in e:\\anaconda\\lib\\site-packages (from inventorize3) (1.23.5)\n",
      "Requirement already satisfied: scikit-learn in e:\\anaconda\\lib\\site-packages (from inventorize3) (1.2.1)\n",
      "Requirement already satisfied: pandas>=0.23.3 in e:\\anaconda\\lib\\site-packages (from inventorize3) (1.5.3)\n",
      "Requirement already satisfied: scipy in e:\\anaconda\\lib\\site-packages (from inventorize3) (1.10.0)\n",
      "Requirement already satisfied: pytz>=2020.1 in e:\\anaconda\\lib\\site-packages (from pandas>=0.23.3->inventorize3) (2022.7)\n",
      "Requirement already satisfied: python-dateutil>=2.8.1 in e:\\anaconda\\lib\\site-packages (from pandas>=0.23.3->inventorize3) (2.8.2)\n",
      "Requirement already satisfied: threadpoolctl>=2.0.0 in e:\\anaconda\\lib\\site-packages (from scikit-learn->inventorize3) (2.2.0)\n",
      "Requirement already satisfied: joblib>=1.1.1 in e:\\anaconda\\lib\\site-packages (from scikit-learn->inventorize3) (1.1.1)\n",
      "Requirement already satisfied: six>=1.5 in e:\\anaconda\\lib\\site-packages (from python-dateutil>=2.8.1->pandas>=0.23.3->inventorize3) (1.16.0)\n"
     ]
    }
   ],
   "source": [
    "!pip install inventorize3"
   ]
  },
  {
   "cell_type": "code",
   "execution_count": 2,
   "id": "03b4ab6b",
   "metadata": {},
   "outputs": [],
   "source": [
    "import pandas as pd\n",
    "import numpy as np\n",
    "import seaborn as sns\n",
    "import matplotlib.pyplot as plt\n",
    "import inventorize3 as inv"
   ]
  },
  {
   "cell_type": "code",
   "execution_count": 3,
   "id": "80d03243",
   "metadata": {},
   "outputs": [
    {
     "data": {
      "text/html": [
       "<div>\n",
       "<style scoped>\n",
       "    .dataframe tbody tr th:only-of-type {\n",
       "        vertical-align: middle;\n",
       "    }\n",
       "\n",
       "    .dataframe tbody tr th {\n",
       "        vertical-align: top;\n",
       "    }\n",
       "\n",
       "    .dataframe thead th {\n",
       "        text-align: right;\n",
       "    }\n",
       "</style>\n",
       "<table border=\"1\" class=\"dataframe\">\n",
       "  <thead>\n",
       "    <tr style=\"text-align: right;\">\n",
       "      <th></th>\n",
       "      <th>StockCode</th>\n",
       "      <th>Description</th>\n",
       "      <th>quantity</th>\n",
       "      <th>revenue</th>\n",
       "    </tr>\n",
       "  </thead>\n",
       "  <tbody>\n",
       "    <tr>\n",
       "      <th>0</th>\n",
       "      <td>10080</td>\n",
       "      <td>check</td>\n",
       "      <td>22</td>\n",
       "      <td>0.00</td>\n",
       "    </tr>\n",
       "    <tr>\n",
       "      <th>1</th>\n",
       "      <td>10080</td>\n",
       "      <td>GROOVY CACTUS INFLATABLE</td>\n",
       "      <td>121</td>\n",
       "      <td>47.19</td>\n",
       "    </tr>\n",
       "    <tr>\n",
       "      <th>2</th>\n",
       "      <td>10120</td>\n",
       "      <td>DOGGY RUBBER</td>\n",
       "      <td>72</td>\n",
       "      <td>15.12</td>\n",
       "    </tr>\n",
       "    <tr>\n",
       "      <th>3</th>\n",
       "      <td>10124A</td>\n",
       "      <td>SPOTS ON RED BOOKCOVER TAPE</td>\n",
       "      <td>4</td>\n",
       "      <td>1.68</td>\n",
       "    </tr>\n",
       "    <tr>\n",
       "      <th>4</th>\n",
       "      <td>10124G</td>\n",
       "      <td>ARMY CAMO BOOKCOVER TAPE</td>\n",
       "      <td>8</td>\n",
       "      <td>3.36</td>\n",
       "    </tr>\n",
       "  </tbody>\n",
       "</table>\n",
       "</div>"
      ],
      "text/plain": [
       "  StockCode                  Description  quantity  revenue\n",
       "0     10080                        check        22     0.00\n",
       "1     10080     GROOVY CACTUS INFLATABLE       121    47.19\n",
       "2     10120                 DOGGY RUBBER        72    15.12\n",
       "3    10124A  SPOTS ON RED BOOKCOVER TAPE         4     1.68\n",
       "4    10124G     ARMY CAMO BOOKCOVER TAPE         8     3.36"
      ]
     },
     "execution_count": 3,
     "metadata": {},
     "output_type": "execute_result"
    }
   ],
   "source": [
    "retail = pd.read_csv('C:\\\\Users\\\\Hello\\\\Downloads\\\\ao.csv')\n",
    "retail.head()"
   ]
  },
  {
   "cell_type": "code",
   "execution_count": 4,
   "id": "6ce948e8",
   "metadata": {},
   "outputs": [
    {
     "data": {
      "text/html": [
       "<div>\n",
       "<style scoped>\n",
       "    .dataframe tbody tr th:only-of-type {\n",
       "        vertical-align: middle;\n",
       "    }\n",
       "\n",
       "    .dataframe tbody tr th {\n",
       "        vertical-align: top;\n",
       "    }\n",
       "\n",
       "    .dataframe thead th {\n",
       "        text-align: right;\n",
       "    }\n",
       "</style>\n",
       "<table border=\"1\" class=\"dataframe\">\n",
       "  <thead>\n",
       "    <tr style=\"text-align: right;\">\n",
       "      <th></th>\n",
       "      <th>Description</th>\n",
       "      <th>quantity</th>\n",
       "      <th>Percentage</th>\n",
       "      <th>comulative</th>\n",
       "      <th>Category</th>\n",
       "    </tr>\n",
       "  </thead>\n",
       "  <tbody>\n",
       "    <tr>\n",
       "      <th>962</th>\n",
       "      <td>POPCORN HOLDER</td>\n",
       "      <td>27526</td>\n",
       "      <td>1.338272e-02</td>\n",
       "      <td>0.013383</td>\n",
       "      <td>A</td>\n",
       "    </tr>\n",
       "    <tr>\n",
       "      <th>1784</th>\n",
       "      <td>RABBIT NIGHT LIGHT</td>\n",
       "      <td>25694</td>\n",
       "      <td>1.249203e-02</td>\n",
       "      <td>0.025875</td>\n",
       "      <td>A</td>\n",
       "    </tr>\n",
       "    <tr>\n",
       "      <th>2726</th>\n",
       "      <td>WORLD WAR 2 GLIDERS ASSTD DESIGNS</td>\n",
       "      <td>17045</td>\n",
       "      <td>8.287020e-03</td>\n",
       "      <td>0.034162</td>\n",
       "      <td>A</td>\n",
       "    </tr>\n",
       "    <tr>\n",
       "      <th>3036</th>\n",
       "      <td>JUMBO BAG RED RETROSPOT</td>\n",
       "      <td>15812</td>\n",
       "      <td>7.687554e-03</td>\n",
       "      <td>0.041849</td>\n",
       "      <td>A</td>\n",
       "    </tr>\n",
       "    <tr>\n",
       "      <th>862</th>\n",
       "      <td>PAPER CHAIN KIT 50'S CHRISTMAS</td>\n",
       "      <td>15179</td>\n",
       "      <td>7.379799e-03</td>\n",
       "      <td>0.049229</td>\n",
       "      <td>A</td>\n",
       "    </tr>\n",
       "    <tr>\n",
       "      <th>...</th>\n",
       "      <td>...</td>\n",
       "      <td>...</td>\n",
       "      <td>...</td>\n",
       "      <td>...</td>\n",
       "      <td>...</td>\n",
       "    </tr>\n",
       "    <tr>\n",
       "      <th>426</th>\n",
       "      <td>check</td>\n",
       "      <td>1</td>\n",
       "      <td>4.861848e-07</td>\n",
       "      <td>0.999998</td>\n",
       "      <td>C</td>\n",
       "    </tr>\n",
       "    <tr>\n",
       "      <th>1839</th>\n",
       "      <td>LARGE ZINC HEART WALL ORGANISER</td>\n",
       "      <td>1</td>\n",
       "      <td>4.861848e-07</td>\n",
       "      <td>0.999999</td>\n",
       "      <td>C</td>\n",
       "    </tr>\n",
       "    <tr>\n",
       "      <th>575</th>\n",
       "      <td>HIPPY CHIC DECORATIVE PARASOL</td>\n",
       "      <td>1</td>\n",
       "      <td>4.861848e-07</td>\n",
       "      <td>0.999999</td>\n",
       "      <td>C</td>\n",
       "    </tr>\n",
       "    <tr>\n",
       "      <th>2865</th>\n",
       "      <td>DANISH ROSE UMBRELLA STAND</td>\n",
       "      <td>1</td>\n",
       "      <td>4.861848e-07</td>\n",
       "      <td>1.000000</td>\n",
       "      <td>C</td>\n",
       "    </tr>\n",
       "    <tr>\n",
       "      <th>3442</th>\n",
       "      <td>SAMPLES</td>\n",
       "      <td>1</td>\n",
       "      <td>4.861848e-07</td>\n",
       "      <td>1.000000</td>\n",
       "      <td>C</td>\n",
       "    </tr>\n",
       "  </tbody>\n",
       "</table>\n",
       "<p>3443 rows × 5 columns</p>\n",
       "</div>"
      ],
      "text/plain": [
       "                            Description  quantity    Percentage  comulative  \\\n",
       "962                      POPCORN HOLDER     27526  1.338272e-02    0.013383   \n",
       "1784                 RABBIT NIGHT LIGHT     25694  1.249203e-02    0.025875   \n",
       "2726  WORLD WAR 2 GLIDERS ASSTD DESIGNS     17045  8.287020e-03    0.034162   \n",
       "3036            JUMBO BAG RED RETROSPOT     15812  7.687554e-03    0.041849   \n",
       "862      PAPER CHAIN KIT 50'S CHRISTMAS     15179  7.379799e-03    0.049229   \n",
       "...                                 ...       ...           ...         ...   \n",
       "426                               check         1  4.861848e-07    0.999998   \n",
       "1839    LARGE ZINC HEART WALL ORGANISER         1  4.861848e-07    0.999999   \n",
       "575       HIPPY CHIC DECORATIVE PARASOL         1  4.861848e-07    0.999999   \n",
       "2865         DANISH ROSE UMBRELLA STAND         1  4.861848e-07    1.000000   \n",
       "3442                            SAMPLES         1  4.861848e-07    1.000000   \n",
       "\n",
       "     Category  \n",
       "962         A  \n",
       "1784        A  \n",
       "2726        A  \n",
       "3036        A  \n",
       "862         A  \n",
       "...       ...  \n",
       "426         C  \n",
       "1839        C  \n",
       "575         C  \n",
       "2865        C  \n",
       "3442        C  \n",
       "\n",
       "[3443 rows x 5 columns]"
      ]
     },
     "execution_count": 4,
     "metadata": {},
     "output_type": "execute_result"
    }
   ],
   "source": [
    "a=inv.ABC(retail[['Description','quantity']])\n",
    "a"
   ]
  },
  {
   "cell_type": "code",
   "execution_count": 5,
   "id": "64f44408",
   "metadata": {},
   "outputs": [
    {
     "data": {
      "text/plain": [
       "<Axes: xlabel='Category', ylabel='quantity'>"
      ]
     },
     "execution_count": 5,
     "metadata": {},
     "output_type": "execute_result"
    },
    {
     "data": {
      "image/png": "[encoded data removed]",
      "text/plain": [
       "<Figure size 640x480 with 1 Axes>"
      ]
     },
     "metadata": {},
     "output_type": "display_data"
    }
   ],
   "source": [
    "sns.barplot(x='Category', y='quantity', data = a)"
   ]
  },
  {
   "cell_type": "code",
   "execution_count": 6,
   "id": "724c4c10",
   "metadata": {},
   "outputs": [
    {
     "data": {
      "text/plain": [
       "<Axes: xlabel='Category', ylabel='count'>"
      ]
     },
     "execution_count": 6,
     "metadata": {},
     "output_type": "execute_result"
    },
    {
     "data": {
      "image/png": "[encoded data removed]",
      "text/plain": [
       "<Figure size 640x480 with 1 Axes>"
      ]
     },
     "metadata": {},
     "output_type": "display_data"
    }
   ],
   "source": [
    "sns.countplot(x='Category', data = a)"
   ]
  },
  {
   "cell_type": "code",
   "execution_count": 7,
   "id": "5ef57e24",
   "metadata": {},
   "outputs": [
    {
     "data": {
      "text/plain": [
       "Index(['skus', 'sales', 'revenue', 'sales_mix', 'comulative_sales',\n",
       "       'revenue_mix', 'comulative_revenue', 'sales_category',\n",
       "       'revenue_category', 'product_mix'],\n",
       "      dtype='object')"
      ]
     },
     "execution_count": 7,
     "metadata": {},
     "output_type": "execute_result"
    }
   ],
   "source": [
    "b=inv.productmix(retail['Description'], retail['quantity'], retail['revenue'])\n",
    "b.columns"
   ]
  },
  {
   "cell_type": "markdown",
   "id": "48247962",
   "metadata": {},
   "source": [
    "b.head()\n",
    "b.product_mix.value_counts()"
   ]
  },
  {
   "cell_type": "code",
   "execution_count": 8,
   "id": "24afde58",
   "metadata": {},
   "outputs": [
    {
     "data": {
      "text/plain": [
       "<Axes: xlabel='product_mix', ylabel='count'>"
      ]
     },
     "execution_count": 8,
     "metadata": {},
     "output_type": "execute_result"
    },
    {
     "data": {
      "image/png": "[encoded data removed]",
      "text/plain": [
       "<Figure size 640x480 with 1 Axes>"
      ]
     },
     "metadata": {},
     "output_type": "display_data"
    }
   ],
   "source": [
    "sns.countplot(x='product_mix', data = b)"
   ]
  },
  {
   "cell_type": "code",
   "execution_count": 9,
   "id": "eb203894",
   "metadata": {},
   "outputs": [
    {
     "data": {
      "text/plain": [
       "<Axes: xlabel='product_mix', ylabel='sales'>"
      ]
     },
     "execution_count": 9,
     "metadata": {},
     "output_type": "execute_result"
    },
    {
     "data": {
      "image/png": "[encoded data removed]",
      "text/plain": [
       "<Figure size 640x480 with 1 Axes>"
      ]
     },
     "metadata": {},
     "output_type": "display_data"
    }
   ],
   "source": [
    "sns.barplot(x='product_mix', y = 'sales', data = b)"
   ]
  },
  {
   "cell_type": "code",
   "execution_count": 10,
   "id": "1479e84c",
   "metadata": {},
   "outputs": [
    {
     "data": {
      "text/plain": [
       "<Axes: xlabel='product_mix', ylabel='revenue'>"
      ]
     },
     "execution_count": 10,
     "metadata": {},
     "output_type": "execute_result"
    },
    {
     "data": {
      "image/png": "[encoded data removed]",
      "text/plain": [
       "<Figure size 640x480 with 1 Axes>"
      ]
     },
     "metadata": {},
     "output_type": "display_data"
    }
   ],
   "source": [
    "sns.barplot(x='product_mix', y = 'revenue', data = b)"
   ]
  },
  {
   "cell_type": "code",
   "execution_count": null,
   "id": "35005c80",
   "metadata": {},
   "outputs": [],
   "source": []
  }
 ],
 "metadata": {
  "kernelspec": {
   "display_name": "Python 3 (ipykernel)",
   "language": "python",
   "name": "python3"
  },
  "language_info": {
   "codemirror_mode": {
    "name": "ipython",
    "version": 3
   },
   "file_extension": ".py",
   "mimetype": "text/x-python",
   "name": "python",
   "nbconvert_exporter": "python",
   "pygments_lexer": "ipython3",
   "version": "3.10.9"
  }
 },
 "nbformat": 4,
 "nbformat_minor": 5
}
